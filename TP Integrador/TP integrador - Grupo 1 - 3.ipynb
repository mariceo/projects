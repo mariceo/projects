{
 "cells": [
  {
   "cell_type": "markdown",
   "id": "moving-mambo",
   "metadata": {},
   "source": [
    "<span style=\"font-family: Arial; font-size:1.6em;color:lightblue;\"><b> Proyecto Integrador </b><br>\n",
    "Comisión 1120-ed-13<br>Notebook 3</p>"
   ]
  },
  {
   "cell_type": "markdown",
   "id": "requested-unemployment",
   "metadata": {},
   "source": [
    "--------------------"
   ]
  },
  {
   "cell_type": "markdown",
   "id": "mexican-photographer",
   "metadata": {},
   "source": [
    "## Grupo 1 - Integrantes\n",
    "\n",
    "* Oviedo, Cecilia\n",
    "* Sosa, Gonzalo\n",
    "* Suchecki, Rocío\n"
   ]
  },
  {
   "cell_type": "markdown",
   "id": "focal-charles",
   "metadata": {},
   "source": [
    "--------------------"
   ]
  },
  {
   "cell_type": "markdown",
   "id": "clinical-consent",
   "metadata": {},
   "source": [
    "<a id=\"section_toc\"></a> \n",
    "\n",
    "## Tabla de Contenidos\n",
    "\n",
    "### [1- Imports](#section_imports)  \n",
    "\n",
    "### [2- Base de datos](#section_dataset)\n",
    "  - [Carga del dataset](#section_carga)\n",
    "\n",
    "### [3- Modelo Elegido: Interpretación](#section_conclusion)\n",
    "  - [Feature importance](#section_feature)\n",
    "  - [R² por producto](#section_R2)\n",
    "\n",
    "### [4- Comparativa con Metodología Actual](#section_actual)\n",
    "### [5- Conclusion General](#section_conclusion)"
   ]
  },
  {
   "cell_type": "markdown",
   "id": "compliant-period",
   "metadata": {},
   "source": [
    "<a id=\"section_imports\"></a> \n",
    "# 1- Imports\n",
    "\n",
    "[volver a TOC](#section_toc)"
   ]
  },
  {
   "cell_type": "code",
   "execution_count": 22,
   "id": "hazardous-tackle",
   "metadata": {},
   "outputs": [],
   "source": [
    "import pandas as pd\n",
    "import numpy as np\n",
    "import seaborn as sns\n",
    "import matplotlib.pyplot as plt\n",
    "from sklearn.impute import SimpleImputer\n",
    "from sklearn.pipeline import Pipeline, FeatureUnion\n",
    "from sklearn.preprocessing import StandardScaler, OneHotEncoder\n",
    "from sklearn.model_selection import GridSearchCV, train_test_split, StratifiedKFold\n",
    "from sklearn.base import BaseEstimator, TransformerMixin\n",
    "from sklearn.pipeline import Pipeline, FeatureUnion\n",
    "from sklearn.preprocessing import StandardScaler, OneHotEncoder\n",
    "from sklearn.ensemble import RandomForestRegressor\n",
    "from sklearn.linear_model import ElasticNet, LassoCV, RidgeCV\n",
    "from sklearn.metrics import r2_score\n",
    "from sklearn import linear_model\n",
    "import xgboost as xgb\n",
    "from sklearn.svm import SVR\n",
    "import itertools \n",
    "import warnings\n",
    "\n",
    "warnings.filterwarnings('ignore')\n",
    "warnings.simplefilter('ignore')\n",
    "\n",
    "palette='cubehelix'\n",
    "cmap='cubehelix'"
   ]
  },
  {
   "cell_type": "markdown",
   "id": "competent-visit",
   "metadata": {},
   "source": [
    "<a id=\"section_dataset\"></a> \n",
    "# 2- Base de datos\n",
    "\n",
    "[volver a TOC](#section_toc)"
   ]
  },
  {
   "cell_type": "markdown",
   "id": "average-berlin",
   "metadata": {},
   "source": [
    "<a id=\"section_carga\"></a> \n",
    "## **Carga del dataset**\n",
    "[volver a TOC](#section_toc)"
   ]
  },
  {
   "cell_type": "code",
   "execution_count": 23,
   "id": "subjective-strategy",
   "metadata": {},
   "outputs": [],
   "source": [
    "#Cargamos el dataset generado tras el análisis previo y la eliminación de outliers\n",
    "df_clean=pd.read_csv('Base_TP_clean.csv',sep=\";\",encoding='utf-8')"
   ]
  },
  {
   "cell_type": "markdown",
   "id": "tutorial-trail",
   "metadata": {},
   "source": [
    "<div class=\"alert alert-block alert-info\"> <b>ACLARACIÓN</b><br>A continuación copiamos la sección de modelado de los datos, que se encuentra en la segunda notebook, por lo que no se volverá a hacer las aclaraciones de cada paso de dicho procedimiento.</li></div>\n"
   ]
  },
  {
   "cell_type": "code",
   "execution_count": 24,
   "id": "norman-julian",
   "metadata": {},
   "outputs": [],
   "source": [
    "df_clean['Cost_USD_Blue']=df_clean.Cost/df_clean.FX_Loss_Date_prev_Blue\n",
    "df_clean['Product_Purchase_Price_USD_Blue']=df_clean.Product_Purchase_Price/df_clean.FX_Sales_Date_Blue"
   ]
  },
  {
   "cell_type": "code",
   "execution_count": 25,
   "id": "general-junior",
   "metadata": {},
   "outputs": [],
   "source": [
    "y = df_clean[['Cost','Cost_USD','Cost_USD_Blue']]\n",
    "X = df_clean.drop(['Cost','Cost_USD','Cost_USD_Blue'], axis=1)\n",
    "mask_repair=df_clean.Solution=='Repair'\n",
    "mask_replace=df_clean.Solution!='Repair'"
   ]
  },
  {
   "cell_type": "code",
   "execution_count": 26,
   "id": "knowing-musical",
   "metadata": {},
   "outputs": [],
   "source": [
    "numericas = [i for i in X.columns if X[i].dtypes != 'object' ]\n",
    "categoricas = [i for i in X.columns if X[i].dtypes == 'object' ]\n",
    "categoricas.remove('Product_Group_Solution') #Esta fue creada para el análisis exploratorio pero no es más que una combinación del resto de las features."
   ]
  },
  {
   "cell_type": "code",
   "execution_count": 27,
   "id": "matched-enemy",
   "metadata": {},
   "outputs": [],
   "source": [
    "numericas_ARS_oficial = ['FX_Sales_Date','FX_Loss_Date_prev','Months_at_loss','Product_Purchase_Price']\n",
    "numericas_ARS_blue = ['FX_Sales_Date_Blue','FX_Loss_Date_prev_Blue','Months_at_loss','Product_Purchase_Price']\n",
    "numericas_USD_oficial = ['Months_at_loss','Product_Purchase_Price_USD','FX_Loss_Date_prev']\n",
    "numericas_USD_blue = ['Months_at_loss','Product_Purchase_Price_USD_Blue','FX_Loss_Date_prev_Blue']\n",
    "\n",
    "# Dejaremos también separadas las categóricas\n",
    "categoricas_sin_product_code = categoricas.copy()\n",
    "categoricas_sin_product_code.remove('Product_Code')\n",
    "\n",
    "#Para los reemplazos no es necesaria la feature \"Service Center\" ya que es exclusiva de las reparaciones\n",
    "categoricas_replace=categoricas.copy()\n",
    "categoricas_replace.remove('Solution')\n",
    "categoricas_replace.remove('Service_Center')"
   ]
  },
  {
   "cell_type": "code",
   "execution_count": 28,
   "id": "marine-editor",
   "metadata": {},
   "outputs": [],
   "source": [
    "X_train, X_test, y_train, y_test = train_test_split(X, y, test_size=0.3, random_state=42,stratify=X.Solution)\n",
    "X_train_repair, X_test_repair, y_train_repair, y_test_repair = train_test_split(X[mask_repair], y[mask_repair], test_size=0.3, random_state=42)\n",
    "X_train_replace, X_test_replace, y_train_replace, y_test_replace = train_test_split(X[mask_replace], y[mask_replace], test_size=0.3, random_state=42)"
   ]
  },
  {
   "cell_type": "code",
   "execution_count": 29,
   "id": "heard-turkey",
   "metadata": {},
   "outputs": [],
   "source": [
    "# Clase para seleccionar columnas\n",
    "class ColumnSelector(BaseEstimator, TransformerMixin):\n",
    "    def __init__(self, columns):\n",
    "        self.columns = columns\n",
    "    \n",
    "    def transform(self, X, *_):\n",
    "        if isinstance(X, pd.DataFrame):\n",
    "            return pd.DataFrame(X[self.columns])\n",
    "        else:\n",
    "            raise TypeError(\"Este Transformador solo funciona en DF de Pandas\")\n",
    "    \n",
    "    def fit(self, X, *_):\n",
    "        return self"
   ]
  },
  {
   "cell_type": "code",
   "execution_count": 30,
   "id": "powerful-ceremony",
   "metadata": {},
   "outputs": [],
   "source": [
    "def modelado(full_pipe,param_grid,X_train,X_test,y_train,y_test):\n",
    "    grid = GridSearchCV(full_pipe, param_grid, scoring='r2',n_jobs=-1, verbose=10)\n",
    "    grid.fit(X_train, y_train)\n",
    "    y_pred = grid.best_estimator_.predict(X_test)\n",
    "    y_train_pred=grid.best_estimator_.predict(X_train)\n",
    "    \n",
    "    #Print de los scores para modelo general:\n",
    "    print(f'\\nLos mejores parametros son: {grid.best_params_}')\n",
    "    print(f'\\nR2 en train: {r2_score(y_train,y_train_pred)}')\n",
    "    print(f'R2 en test: {r2_score(y_test,y_pred)}')\n",
    "    r2_repair_test = 0\n",
    "    r2_replace_test = 0\n",
    "    #Print de los scores para modelos de reparaciones\n",
    "    if len(X_train.Solution.unique())==2:\n",
    "        try:\n",
    "            mask_repair=X_train.Solution=='Repair'\n",
    "            r2_repair_train = r2_score(y_train[mask_repair],y_train_pred[mask_repair])\n",
    "            print(f'\\nR2 en train reparaciones: {r2_repair_train}')\n",
    "            mask_repair=X_test.Solution=='Repair'\n",
    "            r2_repair_test = r2_score(y_test[mask_repair],y_pred[mask_repair])\n",
    "            print(f'R2 en test reparaciones: {r2_repair_test}')\n",
    "            print(y_test[mask_repair].shape)\n",
    "            print(y_pred[mask_repair].shape)\n",
    "        except : \n",
    "            pass\n",
    "        \n",
    "    #Print de los scores para modelos de reemplazos en Train\n",
    "        try: \n",
    "            mask_replacement=X_train.Solution!='Repair'\n",
    "            r2_replace_train = r2_score(y_train[mask_replacement],y_train_pred[mask_replacement])\n",
    "            print(f'\\nR2 en train reemplazos: {r2_replace_train}')\n",
    "            mask_replacement=X_test.Solution!='Repair'\n",
    "            r2_replace_test = r2_score(y_test[mask_replacement],y_pred[mask_replacement])\n",
    "            print(f'R2 en test reemplazos: {r2_replace_test}')\n",
    "            print(y_test[mask_replacement].shape)\n",
    "            print(y_pred[mask_replacement].shape)\n",
    "        except :\n",
    "            pass  \n",
    "    else:\n",
    "        pass\n",
    "    if r2_repair_test and r2_replace_test != 0:\n",
    "        return y_train_pred,y_pred,r2_repair_test,r2_replace_test\n",
    "    else:\n",
    "        return y_train_pred,y_pred"
   ]
  },
  {
   "cell_type": "code",
   "execution_count": 31,
   "id": "varying-label",
   "metadata": {},
   "outputs": [],
   "source": [
    "#Pipeline para categóricas y numéricas\n",
    "pipe_num = Pipeline([(\"select_num\", ColumnSelector(numericas)),(\"scale\", StandardScaler())])\n",
    "pipe_cat = Pipeline([(\"select_cat\", ColumnSelector(categoricas)),(\"ohe\", OneHotEncoder(handle_unknown='ignore'))])\n",
    "union = FeatureUnion([(\"numericas\", pipe_num),(\"categoricas\", pipe_cat)])\n",
    "full_pipe = Pipeline([(\"preprocessing\", union),(\"rgr\", None)])"
   ]
  },
  {
   "cell_type": "markdown",
   "id": "coastal-group",
   "metadata": {},
   "source": [
    "<a id=\"(section_conclusion)\"></a> \n",
    "# 3 - Modelo Elegido: Interpretación\n",
    "[volver a TOC](#section_toc)"
   ]
  },
  {
   "cell_type": "markdown",
   "id": "saved-metabolism",
   "metadata": {},
   "source": [
    "Vamos a instanciar el modelo elegido por fuera de las funciones para poder acceder a los diferentes atributos disponibles."
   ]
  },
  {
   "cell_type": "code",
   "execution_count": 32,
   "id": "pressing-barrier",
   "metadata": {},
   "outputs": [
    {
     "name": "stdout",
     "output_type": "stream",
     "text": [
      "Fitting 5 folds for each of 1 candidates, totalling 5 fits\n"
     ]
    },
    {
     "name": "stderr",
     "output_type": "stream",
     "text": [
      "[Parallel(n_jobs=-1)]: Using backend LokyBackend with 4 concurrent workers.\n",
      "[Parallel(n_jobs=-1)]: Done   2 out of   5 | elapsed:    5.6s remaining:    8.5s\n",
      "[Parallel(n_jobs=-1)]: Done   3 out of   5 | elapsed:    5.6s remaining:    3.7s\n",
      "[Parallel(n_jobs=-1)]: Done   5 out of   5 | elapsed:    7.2s remaining:    0.0s\n",
      "[Parallel(n_jobs=-1)]: Done   5 out of   5 | elapsed:    7.2s finished\n"
     ]
    },
    {
     "name": "stdout",
     "output_type": "stream",
     "text": [
      "\n",
      "Los mejores parametros son: {'preprocessing__categoricas__select_cat__columns': ['Dealer', 'Product_Group', 'Product_SubGroup', 'Product_Code', 'Manufacturer', 'Model', 'Solution', 'Service_Center'], 'preprocessing__numericas__select_num__columns': ['Months_at_loss', 'Product_Purchase_Price_USD_Blue', 'FX_Loss_Date_prev_Blue'], 'rgr': XGBRegressor(base_score=None, booster=None, colsample_bylevel=None,\n",
      "             colsample_bynode=None, colsample_bytree=None, gamma=None,\n",
      "             gpu_id=None, importance_type='gain', interaction_constraints=None,\n",
      "             learning_rate=None, max_delta_step=None, max_depth=None,\n",
      "             min_child_weight=None, missing=nan, monotone_constraints=None,\n",
      "             n_estimators=100, n_jobs=None, num_parallel_tree=None,\n",
      "             random_state=None, reg_alpha=None, reg_lambda=None,\n",
      "             scale_pos_weight=None, subsample=None, tree_method=None,\n",
      "             validate_parameters=None, verbosity=None)}\n",
      "\n",
      "R2 en train: 0.8922109617564151\n",
      "R2 en test: 0.8164660639515093\n"
     ]
    }
   ],
   "source": [
    "#Replicamos el param grid con los best_parameters y combinacion de variables\n",
    "param_grid_XG = [{\"preprocessing__numericas__select_num__columns\":[numericas_USD_blue],\n",
    "                      \"preprocessing__categoricas__select_cat__columns\":[categoricas],\n",
    "        \"rgr\": [xgb.XGBRegressor()],\n",
    "        #'rgr__min_child_weight': [1, 5, 10],\n",
    "        #'rgr__gamma': [0.5, 1, 1.5, 2, 5],\n",
    "        #'rgr__subsample': [0.6, 0.8, 1.0],\n",
    "        #'rgr__colsample_bytree': [0.6, 0.8, 1.0],\n",
    "        #'rgr__max_depth': [3, 4, 5]\n",
    "        }]\n",
    "\n",
    "#Fiteamos\n",
    "grid_best = GridSearchCV(full_pipe, param_grid_XG, scoring='r2',n_jobs=-1, verbose=10)\n",
    "grid_best.fit(X_train, y_train.Cost)\n",
    "\n",
    "#Predicciones\n",
    "y_pred_best = grid_best.best_estimator_.predict(X_test)\n",
    "y_train_pred_best=grid_best.best_estimator_.predict(X_train)\n",
    "    \n",
    "#Print de los scores para modelo general:\n",
    "print(f'\\nLos mejores parametros son: {grid_best.best_params_}')\n",
    "print(f'\\nR2 en train: {r2_score(y_train.Cost,y_train_pred_best)}')\n",
    "print(f'R2 en test: {r2_score(y_test.Cost,y_pred_best)}')"
   ]
  },
  {
   "cell_type": "markdown",
   "id": "comparable-adoption",
   "metadata": {},
   "source": [
    "Por otro lado vamos a crear un dataframe que almacene la importancia de cada feature. Habrá muchas features debido a la cantidad de dummies que se generan al inculier todos los modelos/servicios técnicos."
   ]
  },
  {
   "cell_type": "markdown",
   "id": "pressed-kidney",
   "metadata": {},
   "source": [
    "<a id=\"section_feature\"></a> \n",
    "## **Feature Importance**\n",
    "[volver a TOC](#section_toc)"
   ]
  },
  {
   "cell_type": "markdown",
   "id": "elegant-beauty",
   "metadata": {},
   "source": [
    "A partir de los atributos de XGBoost vamos a evaluar que features/productos vuelven al modelo más relevante."
   ]
  },
  {
   "cell_type": "code",
   "execution_count": 33,
   "id": "superior-bride",
   "metadata": {},
   "outputs": [],
   "source": [
    "names_features=[]\n",
    "names_features= names_features+grid_best.best_estimator_.named_steps['preprocessing'].transformer_list[0][1].named_steps['select_num'].columns\n",
    "names_features= names_features+list(itertools.chain(*grid_best.best_estimator_.named_steps['preprocessing'].transformer_list[1][1].named_steps['ohe'].categories_))"
   ]
  },
  {
   "cell_type": "code",
   "execution_count": 34,
   "id": "certified-clerk",
   "metadata": {},
   "outputs": [
    {
     "data": {
      "text/html": [
       "<div>\n",
       "<style scoped>\n",
       "    .dataframe tbody tr th:only-of-type {\n",
       "        vertical-align: middle;\n",
       "    }\n",
       "\n",
       "    .dataframe tbody tr th {\n",
       "        vertical-align: top;\n",
       "    }\n",
       "\n",
       "    .dataframe thead th {\n",
       "        text-align: right;\n",
       "    }\n",
       "</style>\n",
       "<table border=\"1\" class=\"dataframe\">\n",
       "  <thead>\n",
       "    <tr style=\"text-align: right;\">\n",
       "      <th></th>\n",
       "      <th>Names</th>\n",
       "      <th>Importance</th>\n",
       "      <th>Column_name</th>\n",
       "    </tr>\n",
       "  </thead>\n",
       "  <tbody>\n",
       "    <tr>\n",
       "      <th>8</th>\n",
       "      <td>White</td>\n",
       "      <td>0.462941</td>\n",
       "      <td>Product_Group</td>\n",
       "    </tr>\n",
       "    <tr>\n",
       "      <th>2727</th>\n",
       "      <td>Reimbursement</td>\n",
       "      <td>0.097347</td>\n",
       "      <td>Solution</td>\n",
       "    </tr>\n",
       "    <tr>\n",
       "      <th>14</th>\n",
       "      <td>Celulares</td>\n",
       "      <td>0.021332</td>\n",
       "      <td>Product_SubGroup</td>\n",
       "    </tr>\n",
       "    <tr>\n",
       "      <th>2996</th>\n",
       "      <td>3790</td>\n",
       "      <td>0.014587</td>\n",
       "      <td>Service_Center</td>\n",
       "    </tr>\n",
       "    <tr>\n",
       "      <th>34</th>\n",
       "      <td>Tv / LCD / LED / Smart / 3D</td>\n",
       "      <td>0.010946</td>\n",
       "      <td>Product_SubGroup</td>\n",
       "    </tr>\n",
       "    <tr>\n",
       "      <th>3</th>\n",
       "      <td>A</td>\n",
       "      <td>0.010220</td>\n",
       "      <td>Dealer</td>\n",
       "    </tr>\n",
       "    <tr>\n",
       "      <th>1018</th>\n",
       "      <td>HEL.SAMSUNG RT32K553</td>\n",
       "      <td>0.009834</td>\n",
       "      <td>Model</td>\n",
       "    </tr>\n",
       "    <tr>\n",
       "      <th>2</th>\n",
       "      <td>FX_Loss_Date_prev_Blue</td>\n",
       "      <td>0.008521</td>\n",
       "      <td>FX_Loss_Date_prev_Blue</td>\n",
       "    </tr>\n",
       "    <tr>\n",
       "      <th>231</th>\n",
       "      <td>Whirlpool</td>\n",
       "      <td>0.007332</td>\n",
       "      <td>Manufacturer</td>\n",
       "    </tr>\n",
       "    <tr>\n",
       "      <th>120</th>\n",
       "      <td>Asus</td>\n",
       "      <td>0.007233</td>\n",
       "      <td>Manufacturer</td>\n",
       "    </tr>\n",
       "  </tbody>\n",
       "</table>\n",
       "</div>"
      ],
      "text/plain": [
       "                            Names  Importance             Column_name\n",
       "8                           White    0.462941           Product_Group\n",
       "2727                Reimbursement    0.097347                Solution\n",
       "14                      Celulares    0.021332        Product_SubGroup\n",
       "2996                         3790    0.014587          Service_Center\n",
       "34    Tv / LCD / LED / Smart / 3D    0.010946        Product_SubGroup\n",
       "3                               A    0.010220                  Dealer\n",
       "1018         HEL.SAMSUNG RT32K553    0.009834                   Model\n",
       "2          FX_Loss_Date_prev_Blue    0.008521  FX_Loss_Date_prev_Blue\n",
       "231                     Whirlpool    0.007332            Manufacturer\n",
       "120                          Asus    0.007233            Manufacturer"
      ]
     },
     "execution_count": 34,
     "metadata": {},
     "output_type": "execute_result"
    }
   ],
   "source": [
    "diccionario_features = {'Names':names_features,\n",
    "                       'Importance':grid_best.best_estimator_.named_steps['rgr'].feature_importances_}\n",
    "df_features = pd.DataFrame(diccionario_features)\n",
    "dict_features = {}\n",
    "for colum in list(df_clean.columns):\n",
    "    dict_features[colum] = list(df_clean[colum].unique())\n",
    "    \n",
    "def get_col_name(value):    \n",
    "    for columns in dict_features.keys():\n",
    "        for features in dict_features[columns]:\n",
    "            if features == value:\n",
    "                return columns\n",
    "    \n",
    "df_features['Column_name'] = df_features.Names.apply(lambda x: x if str(get_col_name(x)) == 'None' else get_col_name(x))\n",
    "#df_features['Column_name'] = df_features.Column_name.apply(lambda x: df_features.Names if str(x) == 'None' else x)\n",
    "#Top ten\n",
    "df_features.sort_values('Importance',ascending=False).head(10)"
   ]
  },
  {
   "cell_type": "markdown",
   "id": "international-thesaurus",
   "metadata": {},
   "source": [
    "Vemos que la feature mas relevante es si es o no de linea blanca Lo segundo es si es o no un reemplazo, y lo tercero, si se trata de un celular.\n",
    "Aparecen también entre los 10 mas relevantes los televisores, las heladeras Samsung, y cosas mas especificas como un reparador especifico que atiende el siniestro, un vendedor especifico, y 2 marcas."
   ]
  },
  {
   "cell_type": "code",
   "execution_count": 35,
   "id": "pursuant-wyoming",
   "metadata": {},
   "outputs": [
    {
     "data": {
      "text/html": [
       "<div>\n",
       "<style scoped>\n",
       "    .dataframe tbody tr th:only-of-type {\n",
       "        vertical-align: middle;\n",
       "    }\n",
       "\n",
       "    .dataframe tbody tr th {\n",
       "        vertical-align: top;\n",
       "    }\n",
       "\n",
       "    .dataframe thead th {\n",
       "        text-align: right;\n",
       "    }\n",
       "</style>\n",
       "<table border=\"1\" class=\"dataframe\">\n",
       "  <thead>\n",
       "    <tr style=\"text-align: right;\">\n",
       "      <th></th>\n",
       "      <th>Column_name</th>\n",
       "      <th>Importance</th>\n",
       "    </tr>\n",
       "  </thead>\n",
       "  <tbody>\n",
       "    <tr>\n",
       "      <th>0</th>\n",
       "      <td>Product_Group</td>\n",
       "      <td>0.471697</td>\n",
       "    </tr>\n",
       "    <tr>\n",
       "      <th>1</th>\n",
       "      <td>Model</td>\n",
       "      <td>0.176410</td>\n",
       "    </tr>\n",
       "    <tr>\n",
       "      <th>2</th>\n",
       "      <td>Solution</td>\n",
       "      <td>0.097347</td>\n",
       "    </tr>\n",
       "    <tr>\n",
       "      <th>3</th>\n",
       "      <td>Service_Center</td>\n",
       "      <td>0.097304</td>\n",
       "    </tr>\n",
       "    <tr>\n",
       "      <th>4</th>\n",
       "      <td>Product_SubGroup</td>\n",
       "      <td>0.056872</td>\n",
       "    </tr>\n",
       "    <tr>\n",
       "      <th>5</th>\n",
       "      <td>Manufacturer</td>\n",
       "      <td>0.042416</td>\n",
       "    </tr>\n",
       "    <tr>\n",
       "      <th>6</th>\n",
       "      <td>Product_Code</td>\n",
       "      <td>0.032232</td>\n",
       "    </tr>\n",
       "    <tr>\n",
       "      <th>7</th>\n",
       "      <td>Dealer</td>\n",
       "      <td>0.010220</td>\n",
       "    </tr>\n",
       "    <tr>\n",
       "      <th>8</th>\n",
       "      <td>FX_Loss_Date_prev_Blue</td>\n",
       "      <td>0.008521</td>\n",
       "    </tr>\n",
       "    <tr>\n",
       "      <th>9</th>\n",
       "      <td>Product_Purchase_Price_USD_Blue</td>\n",
       "      <td>0.006424</td>\n",
       "    </tr>\n",
       "    <tr>\n",
       "      <th>10</th>\n",
       "      <td>Months_at_loss</td>\n",
       "      <td>0.000557</td>\n",
       "    </tr>\n",
       "  </tbody>\n",
       "</table>\n",
       "</div>"
      ],
      "text/plain": [
       "                        Column_name  Importance\n",
       "0                     Product_Group    0.471697\n",
       "1                             Model    0.176410\n",
       "2                          Solution    0.097347\n",
       "3                    Service_Center    0.097304\n",
       "4                  Product_SubGroup    0.056872\n",
       "5                      Manufacturer    0.042416\n",
       "6                      Product_Code    0.032232\n",
       "7                            Dealer    0.010220\n",
       "8            FX_Loss_Date_prev_Blue    0.008521\n",
       "9   Product_Purchase_Price_USD_Blue    0.006424\n",
       "10                   Months_at_loss    0.000557"
      ]
     },
     "execution_count": 35,
     "metadata": {},
     "output_type": "execute_result"
    }
   ],
   "source": [
    "df_features.groupby(by='Column_name').sum().sort_values(by='Importance',ascending=False).reset_index()"
   ]
  },
  {
   "cell_type": "markdown",
   "id": "placed-dispute",
   "metadata": {},
   "source": [
    "Vemos que la linea de negocio es la feature mas importante, seguido por el el modelo de equipo siniestrado, y el tipo de solución"
   ]
  },
  {
   "cell_type": "markdown",
   "id": "basic-production",
   "metadata": {},
   "source": [
    "<a id=\"section_R2\"></a> \n",
    "## **R² por producto**\n",
    "[volver a TOC](#section_toc)"
   ]
  },
  {
   "cell_type": "markdown",
   "id": "ahead-sucking",
   "metadata": {},
   "source": [
    "A continuación vamos a analizar el scoring del modelo elegido en diferente variables para entender aun mas su perfomance."
   ]
  },
  {
   "cell_type": "code",
   "execution_count": 36,
   "id": "labeled-probe",
   "metadata": {},
   "outputs": [
    {
     "data": {
      "text/plain": [
       "White-Repair                  0.327334\n",
       "Brown-Repair                  0.256632\n",
       "Grey-Repair                   0.203811\n",
       "Brown-Reimbursement           0.093630\n",
       "Grey-Reimbursement            0.064872\n",
       "White-Reimbursement           0.032006\n",
       "White-Little-Repair           0.012677\n",
       "White-Little-Reimbursement    0.005830\n",
       "Others-Repair                 0.002113\n",
       "Others-Reimbursement          0.001096\n",
       "Name: Product_Group_Solution, dtype: float64"
      ]
     },
     "execution_count": 36,
     "metadata": {},
     "output_type": "execute_result"
    }
   ],
   "source": [
    "#Relevancia en el dataset total de cada segmento/solución\n",
    "df_clean['Product_Group_Solution']=df_clean.Product_Group +'-'+ df_clean.Solution\n",
    "df_clean.Product_Group_Solution.value_counts(normalize=True)"
   ]
  },
  {
   "cell_type": "code",
   "execution_count": 37,
   "id": "focal-crack",
   "metadata": {},
   "outputs": [
    {
     "data": {
      "text/html": [
       "<div>\n",
       "<style scoped>\n",
       "    .dataframe tbody tr th:only-of-type {\n",
       "        vertical-align: middle;\n",
       "    }\n",
       "\n",
       "    .dataframe tbody tr th {\n",
       "        vertical-align: top;\n",
       "    }\n",
       "\n",
       "    .dataframe thead th {\n",
       "        text-align: right;\n",
       "    }\n",
       "</style>\n",
       "<table border=\"1\" class=\"dataframe\">\n",
       "  <thead>\n",
       "    <tr style=\"text-align: right;\">\n",
       "      <th></th>\n",
       "      <th>Name</th>\n",
       "      <th>Score</th>\n",
       "    </tr>\n",
       "  </thead>\n",
       "  <tbody>\n",
       "    <tr>\n",
       "      <th>4</th>\n",
       "      <td>Grey-Reimbursement</td>\n",
       "      <td>0.822262</td>\n",
       "    </tr>\n",
       "    <tr>\n",
       "      <th>7</th>\n",
       "      <td>Others-Reimbursement</td>\n",
       "      <td>0.751978</td>\n",
       "    </tr>\n",
       "    <tr>\n",
       "      <th>1</th>\n",
       "      <td>Brown-Reimbursement</td>\n",
       "      <td>0.722349</td>\n",
       "    </tr>\n",
       "    <tr>\n",
       "      <th>6</th>\n",
       "      <td>White-Reimbursement</td>\n",
       "      <td>0.639271</td>\n",
       "    </tr>\n",
       "    <tr>\n",
       "      <th>9</th>\n",
       "      <td>White-Little-Reimbursement</td>\n",
       "      <td>0.535458</td>\n",
       "    </tr>\n",
       "    <tr>\n",
       "      <th>3</th>\n",
       "      <td>Brown-Repair</td>\n",
       "      <td>0.458769</td>\n",
       "    </tr>\n",
       "    <tr>\n",
       "      <th>2</th>\n",
       "      <td>Grey-Repair</td>\n",
       "      <td>0.348616</td>\n",
       "    </tr>\n",
       "    <tr>\n",
       "      <th>0</th>\n",
       "      <td>White-Repair</td>\n",
       "      <td>0.301589</td>\n",
       "    </tr>\n",
       "    <tr>\n",
       "      <th>5</th>\n",
       "      <td>White-Little-Repair</td>\n",
       "      <td>-0.032039</td>\n",
       "    </tr>\n",
       "    <tr>\n",
       "      <th>8</th>\n",
       "      <td>Others-Repair</td>\n",
       "      <td>-0.101509</td>\n",
       "    </tr>\n",
       "  </tbody>\n",
       "</table>\n",
       "</div>"
      ],
      "text/plain": [
       "                         Name     Score\n",
       "4          Grey-Reimbursement  0.822262\n",
       "7        Others-Reimbursement  0.751978\n",
       "1         Brown-Reimbursement  0.722349\n",
       "6         White-Reimbursement  0.639271\n",
       "9  White-Little-Reimbursement  0.535458\n",
       "3                Brown-Repair  0.458769\n",
       "2                 Grey-Repair  0.348616\n",
       "0                White-Repair  0.301589\n",
       "5         White-Little-Repair -0.032039\n",
       "8               Others-Repair -0.101509"
      ]
     },
     "execution_count": 37,
     "metadata": {},
     "output_type": "execute_result"
    }
   ],
   "source": [
    "#Scoring por semento y solución en Test\n",
    "X_test['Product_Group_Solution']=X_test.Product_Group +'-'+ X_test.Solution\n",
    "list_products=X_test.Product_Group_Solution.unique()\n",
    "name=[]\n",
    "score=[]\n",
    "for product in list_products:\n",
    "    mask_producto=X_test.Product_Group_Solution==product\n",
    "    name.append(product)\n",
    "    score.append(r2_score(y_test.Cost[mask_producto],y_pred_best[mask_producto]))\n",
    "\n",
    "df_score_by_product=pd.DataFrame(zip(name,score),columns=['Name','Score'])\n",
    "df_score_by_product.sort_values(by='Score',ascending=False)"
   ]
  },
  {
   "cell_type": "code",
   "execution_count": 38,
   "id": "filled-commercial",
   "metadata": {},
   "outputs": [
    {
     "data": {
      "text/plain": [
       "Lavarropas / Lavasecarropas          0.264144\n",
       "Tv / LCD / LED / Smart / 3D          0.221848\n",
       "Celulares                            0.211949\n",
       "Notebook                             0.069176\n",
       "Heladeras y Freezers                 0.044448\n",
       "Tablets                              0.043665\n",
       "Audio                                0.042100\n",
       "Aire acondicionado                   0.033219\n",
       "Pequeños electrodomésticos           0.015220\n",
       "Consolas                             0.011895\n",
       "Computación                          0.011308\n",
       "Lavaplatos                           0.005869\n",
       "Anafes - Cocinas - Hornos            0.005752\n",
       "Secarropas                           0.004304\n",
       "Microondas                           0.003169\n",
       "Estufas - Estufas Portátiles         0.001956\n",
       "DVD/Blue ray                         0.001917\n",
       "Home Theater / Home Cinema           0.001722\n",
       "Termotanques - Calefones             0.001604\n",
       "Teléfonos - Contestadores - Faxes    0.001252\n",
       "Autoestereo                          0.000978\n",
       "Maquina de coser                     0.000939\n",
       "Cámaras fotográficas digitales       0.000939\n",
       "Ventiladores                         0.000313\n",
       "TV Proyectivo                        0.000117\n",
       "Purificadores de aire / Campana      0.000117\n",
       "Video Cámaras                        0.000039\n",
       "GPS                                  0.000039\n",
       "Name: Product_SubGroup, dtype: float64"
      ]
     },
     "execution_count": 38,
     "metadata": {},
     "output_type": "execute_result"
    }
   ],
   "source": [
    "#Relevancia en el dataset total para cada producto\n",
    "df_clean.Product_SubGroup.value_counts(normalize=True)"
   ]
  },
  {
   "cell_type": "code",
   "execution_count": 39,
   "id": "wrong-bangkok",
   "metadata": {},
   "outputs": [
    {
     "data": {
      "text/html": [
       "<div>\n",
       "<style scoped>\n",
       "    .dataframe tbody tr th:only-of-type {\n",
       "        vertical-align: middle;\n",
       "    }\n",
       "\n",
       "    .dataframe tbody tr th {\n",
       "        vertical-align: top;\n",
       "    }\n",
       "\n",
       "    .dataframe thead th {\n",
       "        text-align: right;\n",
       "    }\n",
       "</style>\n",
       "<table border=\"1\" class=\"dataframe\">\n",
       "  <thead>\n",
       "    <tr style=\"text-align: right;\">\n",
       "      <th></th>\n",
       "      <th>Name</th>\n",
       "      <th>Score</th>\n",
       "    </tr>\n",
       "  </thead>\n",
       "  <tbody>\n",
       "    <tr>\n",
       "      <th>5</th>\n",
       "      <td>Heladeras y Freezers</td>\n",
       "      <td>0.867067</td>\n",
       "    </tr>\n",
       "    <tr>\n",
       "      <th>20</th>\n",
       "      <td>Maquina de coser</td>\n",
       "      <td>0.843602</td>\n",
       "    </tr>\n",
       "    <tr>\n",
       "      <th>0</th>\n",
       "      <td>Lavarropas / Lavasecarropas</td>\n",
       "      <td>0.820953</td>\n",
       "    </tr>\n",
       "    <tr>\n",
       "      <th>8</th>\n",
       "      <td>Aire acondicionado</td>\n",
       "      <td>0.809509</td>\n",
       "    </tr>\n",
       "    <tr>\n",
       "      <th>19</th>\n",
       "      <td>Home Theater / Home Cinema</td>\n",
       "      <td>0.808762</td>\n",
       "    </tr>\n",
       "    <tr>\n",
       "      <th>2</th>\n",
       "      <td>Tv / LCD / LED / Smart / 3D</td>\n",
       "      <td>0.803552</td>\n",
       "    </tr>\n",
       "    <tr>\n",
       "      <th>16</th>\n",
       "      <td>Lavaplatos</td>\n",
       "      <td>0.799994</td>\n",
       "    </tr>\n",
       "    <tr>\n",
       "      <th>7</th>\n",
       "      <td>Tablets</td>\n",
       "      <td>0.796982</td>\n",
       "    </tr>\n",
       "    <tr>\n",
       "      <th>11</th>\n",
       "      <td>Computación</td>\n",
       "      <td>0.789951</td>\n",
       "    </tr>\n",
       "    <tr>\n",
       "      <th>1</th>\n",
       "      <td>Celulares</td>\n",
       "      <td>0.786487</td>\n",
       "    </tr>\n",
       "    <tr>\n",
       "      <th>14</th>\n",
       "      <td>Estufas - Estufas Portátiles</td>\n",
       "      <td>0.766636</td>\n",
       "    </tr>\n",
       "    <tr>\n",
       "      <th>3</th>\n",
       "      <td>Audio</td>\n",
       "      <td>0.747107</td>\n",
       "    </tr>\n",
       "    <tr>\n",
       "      <th>4</th>\n",
       "      <td>Consolas</td>\n",
       "      <td>0.711620</td>\n",
       "    </tr>\n",
       "    <tr>\n",
       "      <th>6</th>\n",
       "      <td>Notebook</td>\n",
       "      <td>0.698154</td>\n",
       "    </tr>\n",
       "    <tr>\n",
       "      <th>15</th>\n",
       "      <td>Secarropas</td>\n",
       "      <td>0.541894</td>\n",
       "    </tr>\n",
       "    <tr>\n",
       "      <th>12</th>\n",
       "      <td>Termotanques - Calefones</td>\n",
       "      <td>0.445411</td>\n",
       "    </tr>\n",
       "    <tr>\n",
       "      <th>13</th>\n",
       "      <td>Pequeños electrodomésticos</td>\n",
       "      <td>0.438487</td>\n",
       "    </tr>\n",
       "    <tr>\n",
       "      <th>17</th>\n",
       "      <td>Anafes - Cocinas - Hornos</td>\n",
       "      <td>0.437152</td>\n",
       "    </tr>\n",
       "    <tr>\n",
       "      <th>21</th>\n",
       "      <td>Autoestereo</td>\n",
       "      <td>0.377274</td>\n",
       "    </tr>\n",
       "    <tr>\n",
       "      <th>22</th>\n",
       "      <td>Ventiladores</td>\n",
       "      <td>0.351092</td>\n",
       "    </tr>\n",
       "    <tr>\n",
       "      <th>9</th>\n",
       "      <td>Microondas</td>\n",
       "      <td>0.248040</td>\n",
       "    </tr>\n",
       "    <tr>\n",
       "      <th>10</th>\n",
       "      <td>DVD/Blue ray</td>\n",
       "      <td>-0.075053</td>\n",
       "    </tr>\n",
       "    <tr>\n",
       "      <th>18</th>\n",
       "      <td>Teléfonos - Contestadores - Faxes</td>\n",
       "      <td>-1.591128</td>\n",
       "    </tr>\n",
       "    <tr>\n",
       "      <th>23</th>\n",
       "      <td>Cámaras fotográficas digitales</td>\n",
       "      <td>-5.770267</td>\n",
       "    </tr>\n",
       "    <tr>\n",
       "      <th>24</th>\n",
       "      <td>Video Cámaras</td>\n",
       "      <td>NaN</td>\n",
       "    </tr>\n",
       "    <tr>\n",
       "      <th>25</th>\n",
       "      <td>TV Proyectivo</td>\n",
       "      <td>NaN</td>\n",
       "    </tr>\n",
       "    <tr>\n",
       "      <th>26</th>\n",
       "      <td>GPS</td>\n",
       "      <td>NaN</td>\n",
       "    </tr>\n",
       "  </tbody>\n",
       "</table>\n",
       "</div>"
      ],
      "text/plain": [
       "                                 Name     Score\n",
       "5                Heladeras y Freezers  0.867067\n",
       "20                   Maquina de coser  0.843602\n",
       "0         Lavarropas / Lavasecarropas  0.820953\n",
       "8                  Aire acondicionado  0.809509\n",
       "19         Home Theater / Home Cinema  0.808762\n",
       "2         Tv / LCD / LED / Smart / 3D  0.803552\n",
       "16                         Lavaplatos  0.799994\n",
       "7                             Tablets  0.796982\n",
       "11                        Computación  0.789951\n",
       "1                           Celulares  0.786487\n",
       "14       Estufas - Estufas Portátiles  0.766636\n",
       "3                               Audio  0.747107\n",
       "4                            Consolas  0.711620\n",
       "6                            Notebook  0.698154\n",
       "15                         Secarropas  0.541894\n",
       "12           Termotanques - Calefones  0.445411\n",
       "13         Pequeños electrodomésticos  0.438487\n",
       "17          Anafes - Cocinas - Hornos  0.437152\n",
       "21                        Autoestereo  0.377274\n",
       "22                       Ventiladores  0.351092\n",
       "9                          Microondas  0.248040\n",
       "10                       DVD/Blue ray -0.075053\n",
       "18  Teléfonos - Contestadores - Faxes -1.591128\n",
       "23     Cámaras fotográficas digitales -5.770267\n",
       "24                      Video Cámaras       NaN\n",
       "25                      TV Proyectivo       NaN\n",
       "26                                GPS       NaN"
      ]
     },
     "execution_count": 39,
     "metadata": {},
     "output_type": "execute_result"
    }
   ],
   "source": [
    "#Scoring por producto\n",
    "list_products=X_test.Product_SubGroup.unique()\n",
    "name=[]\n",
    "score=[]\n",
    "for product in list_products:\n",
    "    mask_producto=X_test.Product_SubGroup==product\n",
    "    name.append(product)\n",
    "    score.append(r2_score(y_test.Cost[mask_producto],y_pred_best[mask_producto]))\n",
    "\n",
    "df_score_by_product=pd.DataFrame(zip(name,score),columns=['Name','Score'])\n",
    "df_score_by_product.sort_values(by='Score',ascending=False)"
   ]
  },
  {
   "cell_type": "markdown",
   "id": "floral-individual",
   "metadata": {},
   "source": [
    "Vemos qe el score es diferente según de que producto se trate, pero que en los productos que tienen mas representatividad en el dataest los scores estan cercanos al 80%.\n",
    "Entendemos que otros productos pueden tener una muestra muy chica de datos y eso no ayuda al entrenamiento del modelo."
   ]
  },
  {
   "cell_type": "markdown",
   "id": "internal-virus",
   "metadata": {},
   "source": [
    "<a id=\"section_actual\"></a> \n",
    "# 4- Comparativa con Metodología Actual\n",
    "[volver a TOC](#section_toc)"
   ]
  },
  {
   "cell_type": "markdown",
   "id": "tracked-exhibition",
   "metadata": {},
   "source": [
    "Teniendo el dato de como funciona la metodología actual vamos a calcular el score que se obtendría para poder comprar con el modelo obtenido."
   ]
  },
  {
   "cell_type": "markdown",
   "id": "sharing-anthropology",
   "metadata": {},
   "source": [
    "Como contexto la metodologia actual es un promedio lineal que se actualiza trimestralmente a partir de la información del trimestre anterior.\n",
    "Definimos sus caracteristicas como:\n",
    "\n",
    "- A través de un Promedio lineal\n",
    "- Sin distinción por tipo de producto\n",
    "- Actualizado por trimestre\n",
    "- No captura saltos inflacionarios\n",
    "- Siempre estará atrasado y reflejando lo que sucedió el trimestre anterior. \n"
   ]
  },
  {
   "cell_type": "code",
   "execution_count": 40,
   "id": "desirable-pixel",
   "metadata": {},
   "outputs": [
    {
     "name": "stdout",
     "output_type": "stream",
     "text": [
      "R2 metodología actual: 0.04404741327237238\n"
     ]
    }
   ],
   "source": [
    "#Cálculo del score del modelo actual (con la base total neta de outliers y solo para los datos de test)\n",
    "URL = 'https://drive.google.com/file/d/1ab2YSVnRP9qLu8CFz9wTC9Lb8rdnjWOY/view?usp=sharing'\n",
    "path = 'https://drive.google.com/uc?export=download&id='+URL.split('/')[-2]\n",
    "df_inicial = pd.read_csv(path, sep=\";\",encoding='utf-8')\n",
    "df_inicial = df_inicial[df_inicial.Cost<200000]\n",
    "print(f'R2 metodología actual: {r2_score(df_inicial.Cost,df_inicial.Reserva)}')"
   ]
  },
  {
   "cell_type": "code",
   "execution_count": 41,
   "id": "lesbian-digest",
   "metadata": {},
   "outputs": [
    {
     "data": {
      "image/png": "[encoded data removed]",
      "text/plain": [
       "<Figure size 720x432 with 1 Axes>"
      ]
     },
     "metadata": {
      "needs_background": "light"
     },
     "output_type": "display_data"
    }
   ],
   "source": [
    "fig, ax = plt.subplots(figsize=(10, 6))\n",
    "with sns.axes_style('darkgrid'):\n",
    "    g = sns.scatterplot(x=df_inicial.Reserva,y=df_inicial.Cost,ax=ax,color='Thistle')\n",
    "    g = sns.lineplot(x = df_inicial.Cost , y= df_inicial.Cost, color=\"SeaGreen\")\n",
    "    g.set_xlabel('Prediction',weight='bold',size='xx-large',alpha=0.8,family= 'Arial',stretch='extra-expanded')\n",
    "    g.set_ylabel('Observation',weight='bold',size='xx-large',alpha=0.8,family= 'Arial',stretch='extra-expanded')\n",
    "    g.set_title('Metodologia actual - All Solutions',weight='bold',size='xx-large',alpha=0.8,family= 'Arial',stretch='extra-expanded') \n",
    "    g.grid(alpha=0.4)"
   ]
  },
  {
   "cell_type": "markdown",
   "id": "korean-edinburgh",
   "metadata": {},
   "source": [
    "Observamos que la metodología actual tiene saltos en los que se incrementa el monto de reserva pero no logra capturar la realidad del comportamiento del costo.\n",
    "El score obtenido es insignificante dado que ni si quiera divide las soluciones reparación/reemplazo."
   ]
  },
  {
   "cell_type": "markdown",
   "id": "authorized-insurance",
   "metadata": {},
   "source": [
    "<a id=\"section_conclusion\"></a> \n",
    "# 5 - Conclusión general\n",
    "[volver a TOC](#section_toc)"
   ]
  },
  {
   "cell_type": "markdown",
   "id": "exciting-coalition",
   "metadata": {},
   "source": [
    "Concluimos que un modelo basado en machine learning permite obtener significativas diferencias para la compañía en la estimación de sus reservas.\n",
    "Sugerimos tener un único modelo por el momento para reparaciones/reemplazos dado que la diferencia en separarlos no es significativa.\n",
    "Vemos posibilidades de mejora en el diseño de un modelo de reparaciones a partir de nuevas features que la empresa puedea proveer, pero que exceden los limites, tiempos y permisos de este trabajo práctico."
   ]
  }
 ],
 "metadata": {
  "kernelspec": {
   "display_name": "Python 3",
   "language": "python",
   "name": "python3"
  },
  "language_info": {
   "codemirror_mode": {
    "name": "ipython",
    "version": 3
   },
   "file_extension": ".py",
   "mimetype": "text/x-python",
   "name": "python",
   "nbconvert_exporter": "python",
   "pygments_lexer": "ipython3",
   "version": "3.7.9"
  }
 },
 "nbformat": 4,
 "nbformat_minor": 5
}
